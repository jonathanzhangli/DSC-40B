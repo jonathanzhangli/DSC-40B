{
 "cells": [
  {
   "cell_type": "code",
   "execution_count": 1,
   "metadata": {},
   "outputs": [],
   "source": [
    "import dsc40graph\n",
    "from collections import deque"
   ]
  },
  {
   "cell_type": "code",
   "execution_count": 2,
   "metadata": {},
   "outputs": [],
   "source": [
    "def bfs(graph, source, status=None):\n",
    "    if status is None:\n",
    "        status = {node: 'undiscovered' for node in graph.nodes}\n",
    "    status[source] = 'pending'\n",
    "    pending = deque([source])\n",
    "    # while there are still pending nodes\n",
    "    while pending:\n",
    "        u = pending.popleft()\n",
    "        for v in graph.neighbors(u):\n",
    "            # explore edge (u,v)\n",
    "            if status[v] == 'undiscovered':\n",
    "                print (\"Hey\")\n",
    "                status[v] = 'pending'\n",
    "                # append to right\n",
    "                pending.append(v)\n",
    "        status[u] = 'visited'"
   ]
  },
  {
   "cell_type": "code",
   "execution_count": 5,
   "metadata": {},
   "outputs": [
    {
     "name": "stdout",
     "output_type": "stream",
     "text": [
      "Hey\n",
      "Hey\n",
      "Hey\n",
      "Hey\n",
      "Hey\n",
      "Hey\n",
      "Hey\n",
      "Hey\n",
      "Hey\n",
      "Hey\n",
      "Hey\n"
     ]
    }
   ],
   "source": [
    "example_graph = dsc40graph.UndirectedGraph()\n",
    "example_graph.add_edge('a', 'b')\n",
    "example_graph.add_edge('b', 'c')\n",
    "example_graph.add_edge('c', 'd')\n",
    "example_graph.add_edge('d', 'e')\n",
    "example_graph.add_edge('e', 'f')\n",
    "example_graph.add_edge('f', 'g')\n",
    "example_graph.add_edge('g', 'h')\n",
    "example_graph.add_edge('h', 'i')\n",
    "example_graph.add_edge('i', 'j')\n",
    "example_graph.add_edge('j', 'k')\n",
    "example_graph.add_edge('k', 'l')\n",
    "bfs((example_graph),source='a')"
   ]
  },
  {
   "cell_type": "code",
   "execution_count": 6,
   "metadata": {},
   "outputs": [
    {
     "name": "stdout",
     "output_type": "stream",
     "text": [
      "a b\n",
      "b a\n",
      "b c\n",
      "c d\n",
      "c b\n",
      "d e\n",
      "d c\n",
      "e f\n",
      "e d\n",
      "f e\n",
      "f g\n",
      "g h\n",
      "g f\n",
      "h i\n",
      "h g\n",
      "i h\n",
      "i j\n",
      "j k\n",
      "j i\n",
      "k j\n",
      "k l\n",
      "l k\n"
     ]
    }
   ],
   "source": [
    "for u in example_graph.nodes:\n",
    "    for v in example_graph.neighbors(u):\n",
    "        print(u, v)"
   ]
  },
  {
   "cell_type": "code",
   "execution_count": null,
   "metadata": {},
   "outputs": [],
   "source": []
  }
 ],
 "metadata": {
  "kernelspec": {
   "display_name": "Python 3",
   "language": "python",
   "name": "python3"
  },
  "language_info": {
   "codemirror_mode": {
    "name": "ipython",
    "version": 3
   },
   "file_extension": ".py",
   "mimetype": "text/x-python",
   "name": "python",
   "nbconvert_exporter": "python",
   "pygments_lexer": "ipython3",
   "version": "3.7.6"
  }
 },
 "nbformat": 4,
 "nbformat_minor": 4
}
