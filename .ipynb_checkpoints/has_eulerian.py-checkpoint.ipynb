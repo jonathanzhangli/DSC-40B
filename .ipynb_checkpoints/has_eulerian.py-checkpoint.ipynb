{
 "cells": [
  {
   "cell_type": "code",
   "execution_count": 1,
   "metadata": {},
   "outputs": [],
   "source": [
    "import dsc40graph\n"
   ]
  },
  {
   "cell_type": "code",
   "execution_count": 2,
   "metadata": {},
   "outputs": [],
   "source": [
    "def has_eulerian(graph):\n",
    "    if len(graph.edges) == 0:\n",
    "        return None\n",
    "    \n",
    "    status = {node: 'undiscovered' for node in graph.nodes}\n",
    "    for node in graph.nodes:\n",
    "        if (len(graph.neighbors(node)) == 0) | (len(graph.neighbors(node)) % 2 == 1):\n",
    "             return False\n",
    "        if status[node] == 'undiscovered':\n",
    "            dfs(graph, node, status)\n",
    "    return True\n"
   ]
  },
  {
   "cell_type": "code",
   "execution_count": 3,
   "metadata": {},
   "outputs": [],
   "source": [
    "def dfs(graph, u, status):\n",
    "    if status is None:\n",
    "        status = {node: 'undiscovered' for node in graph.nodes}\n",
    "    \n",
    "    status[u] = 'pending'\n",
    "    for v in graph.neighbors(u):\n",
    "        if status[v] == 'undiscovered':\n",
    "            dfs(graph, v, status)\n",
    "            \n",
    "    status[u] = 'visted'"
   ]
  },
  {
   "cell_type": "code",
   "execution_count": 6,
   "metadata": {},
   "outputs": [
    {
     "name": "stdout",
     "output_type": "stream",
     "text": [
      "<UndirectedGraph with 6 nodes and 6 edges>\n"
     ]
    },
    {
     "data": {
      "text/plain": [
       "False"
      ]
     },
     "execution_count": 6,
     "metadata": {},
     "output_type": "execute_result"
    }
   ],
   "source": [
    "# Testing\n",
    "test = dsc40graph.UndirectedGraph()\n",
    "for u, v in [(1,2),(2,3),(3,4),(4,5),(5,1)]:\n",
    "    test.add_edge(u, v)\n",
    "print(test)\n",
    "has_eulerian(test)"
   ]
  },
  {
   "cell_type": "code",
   "execution_count": 5,
   "metadata": {},
   "outputs": [
    {
     "name": "stdout",
     "output_type": "stream",
     "text": [
      "[[], [5], [], [], []]\n"
     ]
    }
   ],
   "source": [
    "alist = [[] for i in range(5)]\n",
    "alist[1].append(5)\n",
    "print(alist)"
   ]
  },
  {
   "cell_type": "code",
   "execution_count": null,
   "metadata": {},
   "outputs": [],
   "source": []
  }
 ],
 "metadata": {
  "kernelspec": {
   "display_name": "Python 3",
   "language": "python",
   "name": "python3"
  },
  "language_info": {
   "codemirror_mode": {
    "name": "ipython",
    "version": 3
   },
   "file_extension": ".py",
   "mimetype": "text/x-python",
   "name": "python",
   "nbconvert_exporter": "python",
   "pygments_lexer": "ipython3",
   "version": "3.7.6"
  }
 },
 "nbformat": 4,
 "nbformat_minor": 4
}
